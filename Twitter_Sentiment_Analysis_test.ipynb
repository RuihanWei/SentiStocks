{
  "nbformat": 4,
  "nbformat_minor": 0,
  "metadata": {
    "colab": {
      "name": "Twitter Sentiment Analysis.ipynb",
      "provenance": [],
      "authorship_tag": "ABX9TyP5+MNMAo7baSqXkcGp/FdG",
      "include_colab_link": true
    },
    "kernelspec": {
      "name": "python3",
      "display_name": "Python 3"
    }
  },
  "cells": [
    {
      "cell_type": "markdown",
      "metadata": {
        "id": "view-in-github",
        "colab_type": "text"
      },
      "source": [
        "<a href=\"https://colab.research.google.com/github/RuihanWei/SentiStocks/blob/main/Twitter_Sentiment_Analysis_test.ipynb\" target=\"_parent\"><img src=\"https://colab.research.google.com/assets/colab-badge.svg\" alt=\"Open In Colab\"/></a>"
      ]
    },
    {
      "cell_type": "code",
      "metadata": {
        "id": "3uoTh-04xUZv"
      },
      "source": [
        ""
      ],
      "execution_count": null,
      "outputs": []
    },
    {
      "cell_type": "code",
      "metadata": {
        "colab": {
          "base_uri": "https://localhost:8080/"
        },
        "id": "p4L_OLA8FCuR",
        "outputId": "21a164bf-3a4b-4a6f-f7fe-c2052b2cacaa"
      },
      "source": [
        "!pip install pyspark"
      ],
      "execution_count": 25,
      "outputs": [
        {
          "output_type": "stream",
          "text": [
            "Collecting pyspark\n",
            "\u001b[?25l  Downloading https://files.pythonhosted.org/packages/f0/26/198fc8c0b98580f617cb03cb298c6056587b8f0447e20fa40c5b634ced77/pyspark-3.0.1.tar.gz (204.2MB)\n",
            "\u001b[K     |████████████████████████████████| 204.2MB 65kB/s \n",
            "\u001b[?25hCollecting py4j==0.10.9\n",
            "\u001b[?25l  Downloading https://files.pythonhosted.org/packages/9e/b6/6a4fb90cd235dc8e265a6a2067f2a2c99f0d91787f06aca4bcf7c23f3f80/py4j-0.10.9-py2.py3-none-any.whl (198kB)\n",
            "\u001b[K     |████████████████████████████████| 204kB 43.9MB/s \n",
            "\u001b[?25hBuilding wheels for collected packages: pyspark\n",
            "  Building wheel for pyspark (setup.py) ... \u001b[?25l\u001b[?25hdone\n",
            "  Created wheel for pyspark: filename=pyspark-3.0.1-py2.py3-none-any.whl size=204612242 sha256=26b31e10ca2f092b832057610a8e08e5f2ce83477f79b4808dad3b03dea91a34\n",
            "  Stored in directory: /root/.cache/pip/wheels/5e/bd/07/031766ca628adec8435bb40f0bd83bb676ce65ff4007f8e73f\n",
            "Successfully built pyspark\n",
            "Installing collected packages: py4j, pyspark\n",
            "Successfully installed py4j-0.10.9 pyspark-3.0.1\n"
          ],
          "name": "stdout"
        }
      ]
    },
    {
      "cell_type": "code",
      "metadata": {
        "id": "DS1RpBtfxW7D"
      },
      "source": [
        "# inspired by https://towardsdatascience.com/sentiment-analysis-on-streaming-twitter-data-using-spark-structured-streaming-python-fc873684bfe3\r\n",
        "\r\n",
        "import tweepy\r\n",
        "from tweepy import Stream\r\n",
        "from tweepy.streaming import StreamListener\r\n",
        "from tweepy import OAuthHandler\r\n",
        "import socket\r\n",
        "import json\r\n",
        "\r\n",
        "from pyspark.sql import SparkSession\r\n",
        "from pyspark.sql.functions import *\r\n",
        "from pyspark.sql.types import *\r\n",
        "from pyspark.sql import functions as F\r\n",
        "from textblob import TextBlob"
      ],
      "execution_count": 26,
      "outputs": []
    },
    {
      "cell_type": "code",
      "metadata": {
        "id": "Nmz_1KJjw2bx"
      },
      "source": [
        "response = requests.get(\r\n",
        "    'https://api.twitter.com/1.1/search/tweets.json?q=tesla',\r\n",
        "    headers={\r\n",
        "        'authorization': 'Bearer '+ BEARER_TOKEN\r\n",
        "})"
      ],
      "execution_count": 5,
      "outputs": []
    },
    {
      "cell_type": "code",
      "metadata": {
        "id": "DWxAAn8wxvza"
      },
      "source": [
        "class TweetsListener(StreamListener):\r\n",
        "  # tweet object listens for the tweets\r\n",
        "  def __init__(self, csocket):\r\n",
        "    self.client_socket = csocket\r\n",
        "  def on_data(self, data):\r\n",
        "    try:  \r\n",
        "      msg = json.loads( data )\r\n",
        "      print(\"new message\")\r\n",
        "      # if tweet is longer than 140 characters\r\n",
        "      if \"extended_tweet\" in msg:\r\n",
        "        # add at the end of each tweet \"t_end\" \r\n",
        "        self.client_socket\\\r\n",
        "            .send(str(msg['extended_tweet']['full_text']+\"t_end\")\\\r\n",
        "            .encode('utf-8'))         \r\n",
        "        print(msg['extended_tweet']['full_text'])\r\n",
        "      else:\r\n",
        "        # add at the end of each tweet \"t_end\" \r\n",
        "        self.client_socket\\\r\n",
        "            .send(str(msg['text']+\"t_end\")\\\r\n",
        "            .encode('utf-8'))\r\n",
        "        print(msg['text'])\r\n",
        "      return True\r\n",
        "    except BaseException as e:\r\n",
        "        print(\"Error on_data: %s\" % str(e))\r\n",
        "    return True\r\n",
        "  def on_error(self, status):\r\n",
        "    print(status)\r\n",
        "    return True\r\n",
        "\r\n",
        "def sendData(c_socket, keyword):\r\n",
        "  print('start sending data from Twitter to socket')\r\n",
        "  # authentication based on the credentials\r\n",
        "  auth = OAuthHandler(API_KEY, API_SECRET_KEY)\r\n",
        "  auth.set_access_token(ACCESS_TOKEN, ACCESS_TOKEN_SECRET)\r\n",
        "  # start sending data from the Streaming API \r\n",
        "  twitter_stream = Stream(auth, TweetsListener(c_socket))\r\n",
        "  twitter_stream.filter(track = keyword, languages=[\"en\"])"
      ],
      "execution_count": null,
      "outputs": []
    },
    {
      "cell_type": "code",
      "metadata": {
        "colab": {
          "base_uri": "https://localhost:8080/",
          "height": 387
        },
        "id": "Sm3Lar8A-2E_",
        "outputId": "0db65025-703f-4f20-c0fb-8276b7152881"
      },
      "source": [
        "# server (local machine) creates listening socket\r\n",
        "s = socket.socket()\r\n",
        "host = \"0.0.0.0\"    \r\n",
        "port = 5550\r\n",
        "s.bind((host, port))\r\n",
        "print('socket is ready')\r\n",
        "# server (local machine) listens for connections\r\n",
        "s.listen(4)\r\n",
        "print('socket is listening')\r\n",
        "# return the socket and the address on the other side of the connection (client side)\r\n",
        "c_socket, addr = s.accept()\r\n",
        "print(\"Received request from: \" + str(addr))\r\n",
        "# select here the keyword for the tweet data\r\n",
        "sendData(c_socket, keyword = ['piano'])"
      ],
      "execution_count": 23,
      "outputs": [
        {
          "output_type": "stream",
          "text": [
            "socket is ready\n",
            "socket is listening\n"
          ],
          "name": "stdout"
        },
        {
          "output_type": "error",
          "ename": "KeyboardInterrupt",
          "evalue": "ignored",
          "traceback": [
            "\u001b[0;31m---------------------------------------------------------------------------\u001b[0m",
            "\u001b[0;31mKeyboardInterrupt\u001b[0m                         Traceback (most recent call last)",
            "\u001b[0;32m<ipython-input-23-46f017bf8d83>\u001b[0m in \u001b[0;36m<module>\u001b[0;34m()\u001b[0m\n\u001b[1;32m      9\u001b[0m \u001b[0mprint\u001b[0m\u001b[0;34m(\u001b[0m\u001b[0;34m'socket is listening'\u001b[0m\u001b[0;34m)\u001b[0m\u001b[0;34m\u001b[0m\u001b[0;34m\u001b[0m\u001b[0m\n\u001b[1;32m     10\u001b[0m \u001b[0;31m# return the socket and the address on the other side of the connection (client side)\u001b[0m\u001b[0;34m\u001b[0m\u001b[0;34m\u001b[0m\u001b[0;34m\u001b[0m\u001b[0m\n\u001b[0;32m---> 11\u001b[0;31m \u001b[0mc_socket\u001b[0m\u001b[0;34m,\u001b[0m \u001b[0maddr\u001b[0m \u001b[0;34m=\u001b[0m \u001b[0ms\u001b[0m\u001b[0;34m.\u001b[0m\u001b[0maccept\u001b[0m\u001b[0;34m(\u001b[0m\u001b[0;34m)\u001b[0m\u001b[0;34m\u001b[0m\u001b[0;34m\u001b[0m\u001b[0m\n\u001b[0m\u001b[1;32m     12\u001b[0m \u001b[0mprint\u001b[0m\u001b[0;34m(\u001b[0m\u001b[0;34m\"Received request from: \"\u001b[0m \u001b[0;34m+\u001b[0m \u001b[0mstr\u001b[0m\u001b[0;34m(\u001b[0m\u001b[0maddr\u001b[0m\u001b[0;34m)\u001b[0m\u001b[0;34m)\u001b[0m\u001b[0;34m\u001b[0m\u001b[0;34m\u001b[0m\u001b[0m\n\u001b[1;32m     13\u001b[0m \u001b[0;31m# select here the keyword for the tweet data\u001b[0m\u001b[0;34m\u001b[0m\u001b[0;34m\u001b[0m\u001b[0;34m\u001b[0m\u001b[0m\n",
            "\u001b[0;32m/usr/lib/python3.6/socket.py\u001b[0m in \u001b[0;36maccept\u001b[0;34m(self)\u001b[0m\n\u001b[1;32m    203\u001b[0m         \u001b[0mFor\u001b[0m \u001b[0mIP\u001b[0m \u001b[0msockets\u001b[0m\u001b[0;34m,\u001b[0m \u001b[0mthe\u001b[0m \u001b[0maddress\u001b[0m \u001b[0minfo\u001b[0m \u001b[0;32mis\u001b[0m \u001b[0ma\u001b[0m \u001b[0mpair\u001b[0m \u001b[0;34m(\u001b[0m\u001b[0mhostaddr\u001b[0m\u001b[0;34m,\u001b[0m \u001b[0mport\u001b[0m\u001b[0;34m)\u001b[0m\u001b[0;34m.\u001b[0m\u001b[0;34m\u001b[0m\u001b[0;34m\u001b[0m\u001b[0m\n\u001b[1;32m    204\u001b[0m         \"\"\"\n\u001b[0;32m--> 205\u001b[0;31m         \u001b[0mfd\u001b[0m\u001b[0;34m,\u001b[0m \u001b[0maddr\u001b[0m \u001b[0;34m=\u001b[0m \u001b[0mself\u001b[0m\u001b[0;34m.\u001b[0m\u001b[0m_accept\u001b[0m\u001b[0;34m(\u001b[0m\u001b[0;34m)\u001b[0m\u001b[0;34m\u001b[0m\u001b[0;34m\u001b[0m\u001b[0m\n\u001b[0m\u001b[1;32m    206\u001b[0m         \u001b[0;31m# If our type has the SOCK_NONBLOCK flag, we shouldn't pass it onto the\u001b[0m\u001b[0;34m\u001b[0m\u001b[0;34m\u001b[0m\u001b[0;34m\u001b[0m\u001b[0m\n\u001b[1;32m    207\u001b[0m         \u001b[0;31m# new socket. We do not currently allow passing SOCK_NONBLOCK to\u001b[0m\u001b[0;34m\u001b[0m\u001b[0;34m\u001b[0m\u001b[0;34m\u001b[0m\u001b[0m\n",
            "\u001b[0;31mKeyboardInterrupt\u001b[0m: "
          ]
        }
      ]
    },
    {
      "cell_type": "code",
      "metadata": {
        "id": "wEvGswATFdwm"
      },
      "source": [
        ""
      ],
      "execution_count": null,
      "outputs": []
    }
  ]
}